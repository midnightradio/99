{
 "metadata": {
  "name": "",
  "signature": "sha256:bd5590eb730a52ca4dcb4d3261b5afd43d94525341b75b3d987a77b9ce578ac7"
 },
 "nbformat": 3,
 "nbformat_minor": 0,
 "worksheets": [
  {
   "cells": [
    {
     "cell_type": "markdown",
     "metadata": {},
     "source": [
      "http://aperiodic.net/phil/scala/s-99/\n",
      "http://www.diale.org/99python/\n",
      "https://wiki.python.org/moin/ProblemSets/99%20Prolog%20Problems%20Solutions"
     ]
    },
    {
     "cell_type": "markdown",
     "metadata": {},
     "source": [
      "p01"
     ]
    },
    {
     "cell_type": "code",
     "collapsed": false,
     "input": [
      "from ipython_doctester import test"
     ],
     "language": "python",
     "metadata": {},
     "outputs": [],
     "prompt_number": 5
    },
    {
     "cell_type": "code",
     "collapsed": false,
     "input": [
      "@test\n",
      "def last(seq):\n",
      "    ur\"\"\"\n",
      "    >>> a_list = [0, 1, 2, 3, 4, 5, 6, 7]\n",
      "    >>> last(a_list)\n",
      "    7\n",
      "    >>> another_list = ['a', 'b', 'c', 'd', 'e', 'f']\n",
      "    >>> last(another_list)\n",
      "    'f'\n",
      "    >>> empty_list = []\n",
      "    >>> last(empty_list) == None\n",
      "    True\n",
      "    \"\"\"\n",
      "    try:\n",
      "        return seq[-1]\n",
      "    except IndexError:\n",
      "        return None"
     ],
     "language": "python",
     "metadata": {},
     "outputs": [
      {
       "html": [
        "\n",
        "      <p style=\"color:green;font-size:250%;font-weight=bold\">Success!</p>\n",
        "      "
       ],
       "metadata": {},
       "output_type": "display_data"
      }
     ],
     "prompt_number": 18
    },
    {
     "cell_type": "markdown",
     "metadata": {},
     "source": [
      "p02"
     ]
    },
    {
     "cell_type": "code",
     "collapsed": false,
     "input": [
      "@test\n",
      "def penultimate(seq):\n",
      "    ur\"\"\"\n",
      "    >>> a_list = [0, 1, 2, 3, 4, 5, 6, 7]\n",
      "    >>> penultimate(a_list)\n",
      "    6\n",
      "    >>> another_list = ['a', 'b', 'c', 'd', 'e', 'f']\n",
      "    >>> penultimate(another_list)\n",
      "    'e'\n",
      "    >>> empty_list = []\n",
      "    >>> penultimate(empty_list) == None\n",
      "    True\n",
      "    \"\"\"\n",
      "    try:\n",
      "        return seq[-2]\n",
      "    except IndexError:\n",
      "        return None"
     ],
     "language": "python",
     "metadata": {},
     "outputs": [
      {
       "html": [
        "\n",
        "      <p style=\"color:green;font-size:250%;font-weight=bold\">Success!</p>\n",
        "      "
       ],
       "metadata": {},
       "output_type": "display_data"
      }
     ],
     "prompt_number": 20
    },
    {
     "cell_type": "markdown",
     "metadata": {},
     "source": [
      "p03"
     ]
    },
    {
     "cell_type": "code",
     "collapsed": false,
     "input": [
      "@test\n",
      "def element_at(seq, n):\n",
      "    ur\"\"\"\n",
      "    >>> a_list = [0, 1, 2, 3, 4, 5, 6, 7]\n",
      "    >>> element_at(a_list, 3)\n",
      "    2\n",
      "    >>> another_list = ['a', 'b', 'c', 'd', 'e', 'f']\n",
      "    >>> element_at(another_list, 1)\n",
      "    'a'\n",
      "    >>> empty_list = []\n",
      "    >>> element_at(empty_list, 10) == None\n",
      "    True\n",
      "    \"\"\"\n",
      "    n-=1\n",
      "    try:\n",
      "        return seq[n]\n",
      "    except IndexError:\n",
      "        return None"
     ],
     "language": "python",
     "metadata": {},
     "outputs": [
      {
       "html": [
        "\n",
        "      <p style=\"color:green;font-size:250%;font-weight=bold\">Success!</p>\n",
        "      "
       ],
       "metadata": {},
       "output_type": "display_data"
      }
     ],
     "prompt_number": 29
    },
    {
     "cell_type": "markdown",
     "metadata": {},
     "source": [
      "p04"
     ]
    },
    {
     "cell_type": "code",
     "collapsed": false,
     "input": [
      "@test\n",
      "def count(seq):\n",
      "    ur\"\"\"\n",
      "    >>> a_list = [0, 1, 2, 3, 4, 5, 6, 7]\n",
      "    >>> count(a_list)\n",
      "    8\n",
      "    >>> another_list = ['a', 'b', 'c', 'd', 'e', 'f']\n",
      "    >>> count(another_list)\n",
      "    6\n",
      "    \"\"\"\n",
      "    return len(seq)"
     ],
     "language": "python",
     "metadata": {},
     "outputs": [
      {
       "html": [
        "\n",
        "      <p style=\"color:green;font-size:250%;font-weight=bold\">Success!</p>\n",
        "      "
       ],
       "metadata": {},
       "output_type": "display_data"
      }
     ],
     "prompt_number": 31
    },
    {
     "cell_type": "markdown",
     "metadata": {},
     "source": [
      "p05 - inplace, call by reference"
     ]
    },
    {
     "cell_type": "code",
     "collapsed": false,
     "input": [
      "@test\n",
      "def reverse(seq):\n",
      "    ur\"\"\"\n",
      "    >>> a_list = [0, 1, 2, 3, 4, 5, 6, 7]\n",
      "    >>> reverse(a_list)\n",
      "    [7, 6, 5, 4, 3, 2, 1, 0]\n",
      "    >>> another_list = ['a', 'b', 'c', 'd', 'e', 'f']\n",
      "    >>> reverse(another_list)\n",
      "    ['f', 'e', 'd', 'c', 'b', 'a']\n",
      "    \"\"\"\n",
      "    seq.reverse()\n",
      "    return seq"
     ],
     "language": "python",
     "metadata": {},
     "outputs": [
      {
       "html": [
        "\n",
        "      <p style=\"color:green;font-size:250%;font-weight=bold\">Success!</p>\n",
        "      "
       ],
       "metadata": {},
       "output_type": "display_data"
      }
     ],
     "prompt_number": 37
    },
    {
     "cell_type": "markdown",
     "metadata": {},
     "source": [
      "p06"
     ]
    },
    {
     "cell_type": "code",
     "collapsed": false,
     "input": [
      "@test\n",
      "def is_palindrome(seq):\n",
      "    ur\"\"\"\n",
      "    >>> a_list = ['s', 'p', 'a', 'm']\n",
      "    >>> is_palindrome(a_list)\n",
      "    False\n",
      "    >>> another_list = ['k', 'a', 'y', 'a', 'k']\n",
      "    >>> is_palindrome(another_list)\n",
      "    True\n",
      "    \"\"\"\n",
      "    length = len(seq)\n",
      "    pivot = length/2\n",
      "    first = seq[:pivot]\n",
      "    second = seq[pivot if length%2==0 else pivot+1:]\n",
      "    second.reverse()\n",
      "    for (a,b) in zip(first, second):\n",
      "        if a!=b: return False\n",
      "    return True"
     ],
     "language": "python",
     "metadata": {},
     "outputs": [
      {
       "html": [
        "\n",
        "      <p style=\"color:green;font-size:250%;font-weight=bold\">Success!</p>\n",
        "      "
       ],
       "metadata": {},
       "output_type": "display_data"
      }
     ],
     "prompt_number": 59
    },
    {
     "cell_type": "markdown",
     "metadata": {},
     "source": [
      "    p07 - flatten, recursion elimination\n",
      "    ur\"\"\"\n",
      "    >>> a_list = [[1, 1], 2, [3, [5, 8]]]\n",
      "    >>> flatten(a_list)\n",
      "    [1,1,2,3,5,8]\n",
      "    \"\"\""
     ]
    },
    {
     "cell_type": "markdown",
     "metadata": {},
     "source": [
      "    p08 - eliminate consecutive duplicates of list elements"
     ]
    },
    {
     "cell_type": "code",
     "collapsed": false,
     "input": [
      "from itertools import groupby\n",
      "@test\n",
      "def eliminate(seq):\n",
      "    ur\"\"\"\n",
      "    >>> a_list = [1, 1, 2, 3, 5, 8]\n",
      "    >>> eliminate(a_list)\n",
      "    [1, 2, 3, 5, 8]\n",
      "    \"\"\"\n",
      "    return [k for (k, g) in groupby(seq)]"
     ],
     "language": "python",
     "metadata": {},
     "outputs": [
      {
       "html": [
        "\n",
        "      <p style=\"color:green;font-size:250%;font-weight=bold\">Success!</p>\n",
        "      "
       ],
       "metadata": {},
       "output_type": "display_data"
      }
     ],
     "prompt_number": 67
    },
    {
     "cell_type": "markdown",
     "metadata": {},
     "source": [
      "    p09 - Pack consecutive duplicates of list elements into sublists."
     ]
    },
    {
     "cell_type": "code",
     "collapsed": false,
     "input": [
      "@test\n",
      "def pack(seq):\n",
      "    ur\"\"\"\n",
      "    >>> pack(['a', 'a', 'a', 'a', 'b', 'c', 'c', 'a', 'a', 'd', 'e', 'e', 'e', 'e'])\n",
      "    [['a', 'a', 'a', 'a'], ['b'], ['c', 'c'], ['a', 'a'], ['d'], ['e', 'e', 'e', 'e']]\n",
      "    \"\"\"\n",
      "    return [list(g) for (k, g) in groupby(seq)]"
     ],
     "language": "python",
     "metadata": {},
     "outputs": [
      {
       "html": [
        "\n",
        "      <p style=\"color:green;font-size:250%;font-weight=bold\">Success!</p>\n",
        "      "
       ],
       "metadata": {},
       "output_type": "display_data"
      }
     ],
     "prompt_number": 70
    },
    {
     "cell_type": "markdown",
     "metadata": {},
     "source": [
      "    p10 - Run-length encoding of a list"
     ]
    },
    {
     "cell_type": "code",
     "collapsed": false,
     "input": [
      "@test\n",
      "def encode(seq):\n",
      "    ur\"\"\"\n",
      "    >>> encode(['a', 'a', 'a', 'a', 'b', 'c', 'c', 'a', 'a', 'd', 'e', 'e', 'e', 'e'])\n",
      "    [(4, 'a'), (1, 'b'), (2, 'c'), (2, 'a'), (1, 'd'), (4, 'e')]\n",
      "    \"\"\"\n",
      "    return [(len(l), l[0]) for l in pack(seq)]"
     ],
     "language": "python",
     "metadata": {},
     "outputs": [
      {
       "html": [
        "\n",
        "      <p style=\"color:green;font-size:250%;font-weight=bold\">Success!</p>\n",
        "      "
       ],
       "metadata": {},
       "output_type": "display_data"
      }
     ],
     "prompt_number": 85
    },
    {
     "cell_type": "markdown",
     "metadata": {},
     "source": [
      "P11 (*) Modified run-length encoding."
     ]
    },
    {
     "cell_type": "code",
     "collapsed": false,
     "input": [
      "@test\n",
      "def encode_modified(seq):\n",
      "    ur\"\"\"\n",
      "    >>> encode_modified(['a', 'a', 'a', 'a', 'b', 'c', 'c', 'a', 'a', 'd', 'e', 'e', 'e', 'e'])\n",
      "    [(4, 'a'), 'b', (2, 'c'), (2, 'a'), 'd', (4, 'e')]\n",
      "    \"\"\"\n",
      "    result = list()\n",
      "    for (n, e) in encode(seq):\n",
      "        if n > 1:\n",
      "            result.append((n,e))\n",
      "        else:\n",
      "            result.append(e)\n",
      "    return result"
     ],
     "language": "python",
     "metadata": {},
     "outputs": [
      {
       "html": [
        "\n",
        "      <p style=\"color:green;font-size:250%;font-weight=bold\">Success!</p>\n",
        "      "
       ],
       "metadata": {},
       "output_type": "display_data"
      }
     ],
     "prompt_number": 79
    },
    {
     "cell_type": "markdown",
     "metadata": {},
     "source": [
      "P12 (**) Decode a run-length encoded list."
     ]
    },
    {
     "cell_type": "code",
     "collapsed": false,
     "input": [
      "@test\n",
      "def decode(seq):\n",
      "    ur\"\"\"\n",
      "    >>> decode([(4, 'a'), 'b', (2, 'c'), (2, 'a'), 'd', (4, 'e')])\n",
      "    ['a', 'a', 'a', 'a', 'b', 'c', 'c', 'a', 'a', 'd', 'e', 'e', 'e', 'e']\n",
      "    \"\"\"\n",
      "    result = list()\n",
      "    for e in seq:\n",
      "        if isinstance(e, tuple):\n",
      "            result.extend([e[1] for _ in range(e[0])])\n",
      "        else:\n",
      "            result.append(e)\n",
      "    return result"
     ],
     "language": "python",
     "metadata": {},
     "outputs": [
      {
       "html": [
        "\n",
        "      <p style=\"color:green;font-size:250%;font-weight=bold\">Success!</p>\n",
        "      "
       ],
       "metadata": {},
       "output_type": "display_data"
      }
     ],
     "prompt_number": 82
    },
    {
     "cell_type": "markdown",
     "metadata": {},
     "source": [
      "P13 (**) Run-length encoding of a list (direct solution)."
     ]
    },
    {
     "cell_type": "code",
     "collapsed": false,
     "input": [
      "@test\n",
      "def encode_direct(seq):\n",
      "    ur\"\"\"\n",
      "    >>> encode_direct(['a', 'a', 'a', 'a', 'b', 'c', 'c', 'a', 'a', 'd', 'e', 'e', 'e', 'e'])\n",
      "    [(4, 'a'), (1, 'b'), (2, 'c'), (2, 'a'), (1, 'd'), (4, 'e')]\n",
      "    \"\"\"\n",
      "    return [(len(list(g)), k) for (k, g) in groupby(seq)]"
     ],
     "language": "python",
     "metadata": {},
     "outputs": [
      {
       "html": [
        "\n",
        "      <p style=\"color:green;font-size:250%;font-weight=bold\">Success!</p>\n",
        "      "
       ],
       "metadata": {},
       "output_type": "display_data"
      }
     ],
     "prompt_number": 86
    },
    {
     "cell_type": "markdown",
     "metadata": {},
     "source": [
      "P14 (*) Duplicate the elements of a list."
     ]
    },
    {
     "cell_type": "code",
     "collapsed": false,
     "input": [
      "@test\n",
      "def duplicate(seq):\n",
      "    ur\"\"\"\n",
      "    >>> duplicate(['a','b','c','c','d'])\n",
      "    ['a', 'a', 'b', 'b', 'c', 'c', 'c', 'c', 'd', 'd']\n",
      "    \"\"\"\n",
      "    return [x for x in seq for _ in range(2)]"
     ],
     "language": "python",
     "metadata": {},
     "outputs": [
      {
       "html": [
        "\n",
        "      <p style=\"color:green;font-size:250%;font-weight=bold\">Success!</p>\n",
        "      "
       ],
       "metadata": {},
       "output_type": "display_data"
      }
     ],
     "prompt_number": 89
    },
    {
     "cell_type": "markdown",
     "metadata": {},
     "source": [
      "P15 (**) Duplicate the elements of a list a given number of times."
     ]
    },
    {
     "cell_type": "code",
     "collapsed": false,
     "input": [
      "@test\n",
      "def duplicate(n, seq):\n",
      "    ur\"\"\"\n",
      "    >>> duplicate(3, ['a', 'b', 'c', 'c', 'd'])\n",
      "    ['a', 'a', 'a', 'b', 'b', 'b', 'c', 'c', 'c', 'c', 'c', 'c', 'd', 'd', 'd']\n",
      "    \"\"\"\n",
      "    return [x for x in seq for _ in range(n)]"
     ],
     "language": "python",
     "metadata": {},
     "outputs": [
      {
       "html": [
        "\n",
        "      <p style=\"color:green;font-size:250%;font-weight=bold\">Success!</p>\n",
        "      "
       ],
       "metadata": {},
       "output_type": "display_data"
      }
     ],
     "prompt_number": 91
    },
    {
     "cell_type": "markdown",
     "metadata": {},
     "source": [
      "P16 (**) Drop every Nth element from a list."
     ]
    },
    {
     "cell_type": "code",
     "collapsed": false,
     "input": [
      "@test\n",
      "def drop(n, seq):\n",
      "    ur\"\"\"\n",
      "    >>> drop(3, ['a', 'b', 'c', 'd', 'e', 'f', 'g', 'h', 'i', 'j', 'k'])\n",
      "    ['a', 'b', 'd', 'e', 'g', 'h', 'j', 'k']\n",
      "    \"\"\"\n",
      "    return [x for (i, x) in enumerate(seq) if (i+1)%n]"
     ],
     "language": "python",
     "metadata": {},
     "outputs": [
      {
       "html": [
        "\n",
        "      <p style=\"color:green;font-size:250%;font-weight=bold\">Success!</p>\n",
        "      "
       ],
       "metadata": {},
       "output_type": "display_data"
      }
     ],
     "prompt_number": 103
    },
    {
     "cell_type": "markdown",
     "metadata": {},
     "source": [
      "P17 (*) Split a list into two parts."
     ]
    },
    {
     "cell_type": "code",
     "collapsed": false,
     "input": [
      "@test\n",
      "def split(n, seq):\n",
      "    ur\"\"\"\n",
      "    >>> split(3, ['a', 'b', 'c', 'd', 'e', 'f', 'g', 'h', 'i', 'j', 'k'])\n",
      "    [['a', 'b', 'c'], ['d', 'e', 'f', 'g', 'h', 'i', 'j', 'k']]\n",
      "    \"\"\"\n",
      "    return [seq[:n], seq[n:]]"
     ],
     "language": "python",
     "metadata": {},
     "outputs": [
      {
       "html": [
        "\n",
        "      <p style=\"color:green;font-size:250%;font-weight=bold\">Success!</p>\n",
        "      "
       ],
       "metadata": {},
       "output_type": "display_data"
      }
     ],
     "prompt_number": 105
    },
    {
     "cell_type": "markdown",
     "metadata": {},
     "source": [
      "P18 (**) Extract a slice from a list."
     ]
    },
    {
     "cell_type": "code",
     "collapsed": false,
     "input": [
      "@test\n",
      "def slice(i,k,seq):\n",
      "    ur\"\"\"\n",
      "    >>> slice(3, 7, ['a', 'b', 'c', 'd', 'e', 'f', 'g', 'h', 'i', 'j', 'k'])\n",
      "    ['d', 'e', 'f', 'g']\n",
      "    \"\"\"\n",
      "    return seq[i:k]"
     ],
     "language": "python",
     "metadata": {},
     "outputs": [
      {
       "html": [
        "\n",
        "      <p style=\"color:green;font-size:250%;font-weight=bold\">Success!</p>\n",
        "      "
       ],
       "metadata": {},
       "output_type": "display_data"
      }
     ],
     "prompt_number": 110
    },
    {
     "cell_type": "markdown",
     "metadata": {},
     "source": [
      "P19 (**) Rotate a list N places to the left."
     ]
    },
    {
     "cell_type": "code",
     "collapsed": false,
     "input": [
      "@test\n",
      "def rotate(n, seq):\n",
      "    ur\"\"\"\n",
      "    >>> rotate(3, ['a', 'b', 'c', 'd', 'e', 'f', 'g', 'h', 'i', 'j', 'k'])\n",
      "    ['d', 'e', 'f', 'g', 'h', 'i', 'j', 'k', 'a', 'b', 'c']\n",
      "    >>> rotate(-2, ['a', 'b', 'c', 'd', 'e', 'f', 'g', 'h', 'i', 'j', 'k'])\n",
      "    ['j', 'k', 'a', 'b', 'c', 'd', 'e', 'f', 'g', 'h', 'i']\n",
      "    \"\"\"\n",
      "    return seq[n:] + seq[:n]"
     ],
     "language": "python",
     "metadata": {},
     "outputs": [
      {
       "html": [
        "\n",
        "      <p style=\"color:green;font-size:250%;font-weight=bold\">Success!</p>\n",
        "      "
       ],
       "metadata": {},
       "output_type": "display_data"
      }
     ],
     "prompt_number": 112
    },
    {
     "cell_type": "markdown",
     "metadata": {},
     "source": [
      "P20 (*) Remove the Kth element from a list."
     ]
    },
    {
     "cell_type": "code",
     "collapsed": false,
     "input": [
      "@test\n",
      "def remove_at(n, seq): \n",
      "    ur\"\"\"\n",
      "    >>> remove_at(1, ['a', 'b', 'c', 'd'])\n",
      "    (['a', 'c', 'd'], 'b')\n",
      "    \"\"\"\n",
      "    return (seq[:n] + seq[n+1:], seq[n])"
     ],
     "language": "python",
     "metadata": {},
     "outputs": [
      {
       "html": [
        "\n",
        "      <p style=\"color:green;font-size:250%;font-weight=bold\">Success!</p>\n",
        "      "
       ],
       "metadata": {},
       "output_type": "display_data"
      }
     ],
     "prompt_number": 116
    },
    {
     "cell_type": "markdown",
     "metadata": {},
     "source": [
      "P21 (*) Insert an element at a given position into a list."
     ]
    },
    {
     "cell_type": "code",
     "collapsed": false,
     "input": [
      "@test\n",
      "def insert_at(elm, n, seq):\n",
      "    ur\"\"\"\n",
      "    >>> insert_at('new', 1, ['a', 'b', 'c', 'd'])\n",
      "    ['a', 'new', 'b', 'c', 'd']\n",
      "    \"\"\"\n",
      "    return seq[:n] + [elm] + seq[n:]"
     ],
     "language": "python",
     "metadata": {},
     "outputs": [
      {
       "html": [
        "\n",
        "      <p style=\"color:green;font-size:250%;font-weight=bold\">Success!</p>\n",
        "      "
       ],
       "metadata": {},
       "output_type": "display_data"
      }
     ],
     "prompt_number": 118
    },
    {
     "cell_type": "markdown",
     "metadata": {},
     "source": [
      "P22 (*) Create a list containing all integers within a given range."
     ]
    },
    {
     "cell_type": "code",
     "collapsed": false,
     "input": [
      "@test\n",
      "def irange(i, k):\n",
      "    ur\"\"\"\n",
      "    >>> list(irange(4, 9))\n",
      "    [4, 5, 6, 7, 8, 9]\n",
      "    \"\"\"\n",
      "    for a in range(i, k+1):\n",
      "        yield a"
     ],
     "language": "python",
     "metadata": {},
     "outputs": [
      {
       "html": [
        "\n",
        "      <p style=\"color:green;font-size:250%;font-weight=bold\">Success!</p>\n",
        "      "
       ],
       "metadata": {},
       "output_type": "display_data"
      }
     ],
     "prompt_number": 120
    },
    {
     "cell_type": "markdown",
     "metadata": {},
     "source": [
      "P23 (**) Extract a given number of randomly selected elements from a list."
     ]
    },
    {
     "cell_type": "code",
     "collapsed": false,
     "input": [
      "import random\n",
      "\n",
      "@test\n",
      "def random_select(n, seq):\n",
      "    ur\"\"\"\n",
      "    >>> random_select(3, ['a', 'b', 'c', 'd', 'f', 'g', 'h'])\n",
      "    None\n",
      "    \"\"\"\n",
      "    return random.sample(seq, n)\n"
     ],
     "language": "python",
     "metadata": {},
     "outputs": [
      {
       "html": [
        "\n",
        "        <p><span style=\"color:red;\">Oops!</span>  Not quite there yet...</p>\n",
        "      \n",
        "                       <table>\n",
        "                       <tr><th>Tried</th><th>Expected</th><th>Got</th></tr><tr><td><code><pre>random_select(3, ['a', 'b', 'c', 'd', 'f', 'g', 'h'])\n",
        "</pre></code></td><td><pre>None\n",
        "</pre></td><td><pre style=\"color:red\">['a', 'f', 'd']\n",
        "</pre></td></tr>\n",
        "                      </table>\n",
        "                      "
       ],
       "metadata": {},
       "output_type": "display_data"
      }
     ],
     "prompt_number": 130
    },
    {
     "cell_type": "markdown",
     "metadata": {},
     "source": [
      "P24 (*) Lotto: Draw N different random numbers from the set 1..M."
     ]
    },
    {
     "cell_type": "code",
     "collapsed": false,
     "input": [
      "@test\n",
      "def lotto(n, m):\n",
      "    ur\"\"\"\n",
      "    >>> lotto(6, 49)\n",
      "    None\n",
      "    \"\"\"\n",
      "    return random.sample(range(1,m+1), n)"
     ],
     "language": "python",
     "metadata": {},
     "outputs": [
      {
       "html": [
        "\n",
        "        <p><span style=\"color:red;\">Oops!</span>  Not quite there yet...</p>\n",
        "      \n",
        "                       <table>\n",
        "                       <tr><th>Tried</th><th>Expected</th><th>Got</th></tr><tr><td><code><pre>lotto(6, 49)\n",
        "</pre></code></td><td><pre>None\n",
        "</pre></td><td><pre style=\"color:red\">[18, 23, 22, 8, 45, 11]\n",
        "</pre></td></tr>\n",
        "                      </table>\n",
        "                      "
       ],
       "metadata": {},
       "output_type": "display_data"
      }
     ],
     "prompt_number": 139
    },
    {
     "cell_type": "markdown",
     "metadata": {},
     "source": [
      "P25 (*) Generate a random permutation of the elements of a list."
     ]
    },
    {
     "cell_type": "code",
     "collapsed": false,
     "input": [
      "@test\n",
      "def random_permute(seq):\n",
      "    ur\"\"\"\n",
      "    >>> rp = random_permute(['a', 'b', 'c', 'd', 'e', 'f'])\n",
      "    >>> len(set(rp))\n",
      "    6\n",
      "    \"\"\"\n",
      "    return random_select(len(seq), seq)"
     ],
     "language": "python",
     "metadata": {},
     "outputs": [
      {
       "html": [
        "\n",
        "      <p style=\"color:green;font-size:250%;font-weight=bold\">Success!</p>\n",
        "      "
       ],
       "metadata": {},
       "output_type": "display_data"
      }
     ],
     "prompt_number": 142
    },
    {
     "cell_type": "markdown",
     "metadata": {},
     "source": [
      "P26 (**) Generate the combinations of K distinct objects chosen from the N elements of a list."
     ]
    },
    {
     "cell_type": "code",
     "collapsed": false,
     "input": [
      "def combination(n, seq):\n",
      "    result = set()\n",
      "    candidate = random_select(n, seq)\n",
      "    "
     ],
     "language": "python",
     "metadata": {},
     "outputs": []
    }
   ],
   "metadata": {}
  }
 ]
}